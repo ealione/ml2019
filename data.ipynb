{
 "cells": [
  {
   "cell_type": "code",
   "execution_count": 3,
   "outputs": [],
   "source": [
    "import torch\n",
    "import torchvision\n",
    "import torchvision.transforms as transforms\n",
    "\n",
    "import matplotlib.pyplot as plt\n",
    "import numpy as np\n",
    "\n",
    "%matplotlib inline "
   ],
   "metadata": {
    "collapsed": false,
    "pycharm": {
     "name": "#%%\n",
     "is_executing": false
    }
   }
  },
  {
   "cell_type": "code",
   "execution_count": 4,
   "outputs": [],
   "source": [
    "transform_train = transforms.Compose([\n",
    "    transforms.RandomCrop(32, padding=4),\n",
    "    transforms.RandomHorizontalFlip(),\n",
    "    transforms.ToTensor(),\n",
    "    transforms.Normalize((0.4914, 0.4822, 0.4465), (0.2023, 0.1994, 0.2010)),\n",
    "])\n",
    "\n",
    "\n",
    "transform_test = transforms.Compose([\n",
    "    transforms.ToTensor(),\n",
    "    transforms.Normalize((0.4914, 0.4822, 0.4465), (0.2023, 0.1994, 0.2010)),\n",
    "])"
   ],
   "metadata": {
    "collapsed": false,
    "pycharm": {
     "name": "#%%\n",
     "is_executing": false
    }
   }
  },
  {
   "cell_type": "code",
   "execution_count": 5,
   "outputs": [
    {
     "name": "stdout",
     "text": [
      "Files already downloaded and verified\n",
      "Files already downloaded and verified\n"
     ],
     "output_type": "stream"
    }
   ],
   "source": [
    "trainset = torchvision.datasets.CIFAR10(root='./data', train=True, download=True, transform=transform_train)\n",
    "trainloader = torch.utils.data.DataLoader(trainset, batch_size=4, shuffle=True, num_workers=2)\n",
    "\n",
    "testset = torchvision.datasets.CIFAR10(root='./data', train=False, download=True, transform=transform_test)\n",
    "testloader = torch.utils.data.DataLoader(testset, batch_size=4, shuffle=False, num_workers=2)\n",
    "\n",
    "classes = ('plane', 'car', 'bird', 'cat', 'deer', 'dog', 'frog', 'horse', 'ship', 'truck')"
   ],
   "metadata": {
    "collapsed": false,
    "pycharm": {
     "name": "#%%\n",
     "is_executing": false
    }
   }
  },
  {
   "cell_type": "code",
   "execution_count": 6,
   "outputs": [],
   "source": [
    "def imshow(img):\n",
    "    img = img / 2 + 0.5\n",
    "    npimg = img.numpy()\n",
    "    plt.imshow(np.transpose(npimg, (1, 2, 0)))\n",
    "    plt.show()"
   ],
   "metadata": {
    "collapsed": false,
    "pycharm": {
     "name": "#%%\n",
     "is_executing": false
    }
   }
  },
  {
   "cell_type": "code",
   "execution_count": 7,
   "outputs": [
    {
     "name": "stderr",
     "text": [
      "Clipping input data to the valid range for imshow with RGB data ([0..1] for floats or [0..255] for integers).\n"
     ],
     "output_type": "stream"
    },
    {
     "data": {
      "text/plain": "<Figure size 432x288 with 1 Axes>",
      "image/png": "[encoded data removed]"
     },
     "metadata": {
      "needs_background": "light"
     },
     "output_type": "display_data"
    },
    {
     "name": "stdout",
     "text": [
      "  car   cat plane   cat\n"
     ],
     "output_type": "stream"
    }
   ],
   "source": [
    "dataiter = iter(trainloader)\n",
    "images, labels = dataiter.next()\n",
    "\n",
    "imshow(torchvision.utils.make_grid(images))\n",
    "print(' '.join('%5s' % classes[labels[j]] for j in range(4)))"
   ],
   "metadata": {
    "collapsed": false,
    "pycharm": {
     "name": "#%%\n",
     "is_executing": false
    }
   }
  },
  {
   "cell_type": "markdown",
   "source": [
    "In such problems we are usually interested to take away the mean, and decorrelate the data (remove linear dependencies). \n",
    "This is done by transforming the data in such a way that its covariance matrix $\\Sigma$ is the identity matrix. The process \n",
    "is called whitening and the Zero-phase Component Analysis (ZCA) is a widely used technique used for helping a deep \n",
    "learning model emphasize on the important features of an image. \n",
    "\n",
    "The covariance matrix for $N$ data points in $\\mathbb{R}^n$ is denoted as $\\Sigma \\in \\mathbb{R}^{n \\times n}$ and is\n",
    "equal to,\n",
    "\n",
    "$\\hat{\\Sigma}_{jk} = \\frac{1}{N-1} \\sum_{i=1}^N (x_{ij} - \\bar{x}_j) \\cdot (x_{ik} - \\bar{x}_k)$\n",
    "\n",
    "where $\\bar{x}_j$ denotes the j-th component of the estimated mean of the samples $x$. Any matrix \n",
    "$W \\in \\mathbb{R}^{n \\times n}$ that satisfies $W^T W = C^{-1}$ will 'whiten' the data. ZCA is the choice \n",
    "$W = M^{- \\frac{1}{2}}$. In their core, whitening techniques are a multiplication of the principal components with the \n",
    "data points $x$. The principal components are calculated using the following formula \n",
    "$[u \\cdot \\frac{1}{\\sqrt{s + 10^{-7}}} I \\cdot u^T]$, where $s \\in \\mathbb{R}^{n \\times n}$ and \n",
    "$u \\in \\mathbb{R}^{n \\times n}$ are obtained by performing singular value decomposition to the covariance matrix \n",
    "$\\Sigma$. Or in short as implemented by \n",
    "[Keras](https://github.com/keras-team/keras/blob/master/keras/preprocessing/image.py#L670-L674 \"Keras\")\n",
    "\n",
    "_ _ _\n",
    "\n",
    "```python\n",
    "# Calculate principal components\n",
    "sigma = np.dot(flat_x.T, flat_x) / flat_x.shape[0]\n",
    "u, s, _ = linalg.svd(sigma)\n",
    "principal_components = np.dot(np.dot(u, np.diag(1. / np.sqrt(s + 10e-7))), u.T)\n",
    "\n",
    "# Apply ZCA whitening\n",
    "whitex = np.dot(flat_x, principal_components)\n",
    "```\n",
    "- - -\n",
    "\n",
    "###### _for more information see [this][Krizhevsky] or [this][Agnan] paper or [this][StackOverflow] answer_\n",
    "\n",
    "[Krizhevsky]: https://www.cs.toronto.edu/~kriz/learning-features-2009-TR.pdf \"Learning Multiple Layers of Features from Tiny Images\"\n",
    "[Agnan]: https://arxiv.org/abs/1512.00809 \"Optimal whitening and decorrelation\"\n",
    "[StackOverflow]: https://stats.stackexchange.com/questions/117427/what-is-the-difference-between-zca-whitening-and-pca-whitening \"Answer on StackOverflow about ZCA\""
   ],
   "metadata": {
    "collapsed": false,
    "pycharm": {
     "name": "#%% md\n"
    }
   }
  },
  {
   "cell_type": "code",
   "source": [
    "from sklearn.decomposition import PCA\n",
    "\n",
    "def unpickle(file):\n",
    "    import pickle\n",
    "    with open(file, 'rb') as fo:\n",
    "        dict = pickle.load(fo, encoding='bytes')\n",
    "    return dict\n",
    "    \n",
    "data_flat = np.vstack(tuple(unpickle(\"data/cifar-10-batches-py/data_batch_{}\".format(n))[b'data'] for n in range(1, 6)))\n",
    "\n",
    "pca = PCA(n_components=400, random_state=0, svd_solver='randomized')\n",
    "pca.fit(data_flat)\n",
    "\n",
    "# here we see the percentage of variance explained by just 400 components, out of the 32x32x3\n",
    "plt.plot(np.cumsum(pca.explained_variance_ratio_))\n",
    "plt.ylim(0.8, 1.0)\n",
    "plt.grid()\n"
   ],
   "metadata": {
    "collapsed": false,
    "pycharm": {
     "name": "#%%\n",
     "is_executing": false
    }
   },
   "execution_count": 1,
   "outputs": [
    {
     "traceback": [
      "\u001b[0;31m---------------------------------------------------------------------------\u001b[0m",
      "\u001b[0;31mNameError\u001b[0m                                 Traceback (most recent call last)",
      "\u001b[0;32m<ipython-input-1-9663362c6ad8>\u001b[0m in \u001b[0;36m<module>\u001b[0;34m\u001b[0m\n\u001b[1;32m      7\u001b[0m     \u001b[0;32mreturn\u001b[0m \u001b[0mdict\u001b[0m\u001b[0;34m\u001b[0m\u001b[0;34m\u001b[0m\u001b[0m\n\u001b[1;32m      8\u001b[0m \u001b[0;34m\u001b[0m\u001b[0m\n\u001b[0;32m----> 9\u001b[0;31m \u001b[0mdata_flat\u001b[0m \u001b[0;34m=\u001b[0m \u001b[0mnp\u001b[0m\u001b[0;34m.\u001b[0m\u001b[0mvstack\u001b[0m\u001b[0;34m(\u001b[0m\u001b[0mtuple\u001b[0m\u001b[0;34m(\u001b[0m\u001b[0munpickle\u001b[0m\u001b[0;34m(\u001b[0m\u001b[0;34m\"data/cifar-10-batches-py/data_batch_{}\"\u001b[0m\u001b[0;34m.\u001b[0m\u001b[0mformat\u001b[0m\u001b[0;34m(\u001b[0m\u001b[0mn\u001b[0m\u001b[0;34m)\u001b[0m\u001b[0;34m)\u001b[0m\u001b[0;34m[\u001b[0m\u001b[0;34mb'data'\u001b[0m\u001b[0;34m]\u001b[0m \u001b[0;32mfor\u001b[0m \u001b[0mn\u001b[0m \u001b[0;32min\u001b[0m \u001b[0mrange\u001b[0m\u001b[0;34m(\u001b[0m\u001b[0;36m1\u001b[0m\u001b[0;34m,\u001b[0m \u001b[0;36m6\u001b[0m\u001b[0;34m)\u001b[0m\u001b[0;34m)\u001b[0m\u001b[0;34m)\u001b[0m\u001b[0;34m\u001b[0m\u001b[0;34m\u001b[0m\u001b[0m\n\u001b[0m\u001b[1;32m     10\u001b[0m \u001b[0;34m\u001b[0m\u001b[0m\n\u001b[1;32m     11\u001b[0m \u001b[0mpca\u001b[0m \u001b[0;34m=\u001b[0m \u001b[0mPCA\u001b[0m\u001b[0;34m(\u001b[0m\u001b[0mn_components\u001b[0m\u001b[0;34m=\u001b[0m\u001b[0;36m400\u001b[0m\u001b[0;34m,\u001b[0m \u001b[0mrandom_state\u001b[0m\u001b[0;34m=\u001b[0m\u001b[0;36m0\u001b[0m\u001b[0;34m,\u001b[0m \u001b[0msvd_solver\u001b[0m\u001b[0;34m=\u001b[0m\u001b[0;34m'randomized'\u001b[0m\u001b[0;34m)\u001b[0m\u001b[0;34m\u001b[0m\u001b[0;34m\u001b[0m\u001b[0m\n",
      "\u001b[0;31mNameError\u001b[0m: name 'np' is not defined"
     ],
     "ename": "NameError",
     "evalue": "name 'np' is not defined",
     "output_type": "error"
    }
   ]
  },
  {
   "cell_type": "code",
   "execution_count": 8,
   "outputs": [
    {
     "traceback": [
      "\u001b[0;31m---------------------------------------------------------------------------\u001b[0m",
      "\u001b[0;31mNameError\u001b[0m                                 Traceback (most recent call last)",
      "\u001b[0;32m<ipython-input-8-100911d75b3b>\u001b[0m in \u001b[0;36m<module>\u001b[0;34m\u001b[0m\n\u001b[0;32m----> 1\u001b[0;31m \u001b[0mDD\u001b[0m \u001b[0;34m=\u001b[0m \u001b[0mnp\u001b[0m\u001b[0;34m.\u001b[0m\u001b[0mdot\u001b[0m\u001b[0;34m(\u001b[0m\u001b[0mdd\u001b[0m \u001b[0;34m-\u001b[0m \u001b[0mpca\u001b[0m\u001b[0;34m.\u001b[0m\u001b[0mmean_\u001b[0m\u001b[0;34m,\u001b[0m \u001b[0mpca\u001b[0m\u001b[0;34m.\u001b[0m\u001b[0mcomponents_\u001b[0m\u001b[0;34m.\u001b[0m\u001b[0mT\u001b[0m\u001b[0;34m)\u001b[0m\u001b[0;34m\u001b[0m\u001b[0;34m\u001b[0m\u001b[0m\n\u001b[0m\u001b[1;32m      2\u001b[0m \u001b[0;32mdef\u001b[0m \u001b[0mreconstruct\u001b[0m\u001b[0;34m(\u001b[0m\u001b[0mpca\u001b[0m\u001b[0;34m,\u001b[0m \u001b[0mvec\u001b[0m\u001b[0;34m)\u001b[0m\u001b[0;34m:\u001b[0m\u001b[0;34m\u001b[0m\u001b[0;34m\u001b[0m\u001b[0m\n\u001b[1;32m      3\u001b[0m     \u001b[0;32mreturn\u001b[0m \u001b[0mpca\u001b[0m\u001b[0;34m.\u001b[0m\u001b[0mmean_\u001b[0m \u001b[0;34m+\u001b[0m \u001b[0mnp\u001b[0m\u001b[0;34m.\u001b[0m\u001b[0mdot\u001b[0m\u001b[0;34m(\u001b[0m\u001b[0mvec\u001b[0m\u001b[0;34m,\u001b[0m \u001b[0mpca\u001b[0m\u001b[0;34m.\u001b[0m\u001b[0mcomponents_\u001b[0m\u001b[0;34m)\u001b[0m\u001b[0;34m\u001b[0m\u001b[0;34m\u001b[0m\u001b[0m\n\u001b[1;32m      4\u001b[0m \u001b[0;34m\u001b[0m\u001b[0m\n\u001b[1;32m      5\u001b[0m \u001b[0;32mdef\u001b[0m \u001b[0mvtoimg\u001b[0m\u001b[0;34m(\u001b[0m\u001b[0mv\u001b[0m\u001b[0;34m)\u001b[0m\u001b[0;34m:\u001b[0m\u001b[0;34m\u001b[0m\u001b[0;34m\u001b[0m\u001b[0m\n",
      "\u001b[0;31mNameError\u001b[0m: name 'dd' is not defined"
     ],
     "ename": "NameError",
     "evalue": "name 'dd' is not defined",
     "output_type": "error"
    }
   ],
   "source": [
    "data_transformed = np.dot(data_flat - pca.mean_, pca.components_.T)\n",
    "\n",
    "def reconstruct(pca, vec):\n",
    "    return pca.mean_ + np.dot(vec, pca.components_)\n",
    "\n",
    "def vtoimg(v):\n",
    "     return np.array(np.clip(v, 0, 255), dtype=np.uint8).reshape(3, 32, 32).transpose([1, 2, 0])\n",
    "    \n",
    "image_index = 200    \n",
    "original_image = data_flat[image_index].reshape(3,32,32).transpose([1,2,0])\n",
    "reconstructed_image = vtoimg(reconstruct(pca, data_transformed[image_index]))\n",
    "\n",
    "plt.subplot(1,2,1)\n",
    "plt.imshow(original_image)\n",
    "plt.subplot(1,2,2)\n",
    "plt.imshow(reconstructed_image)"
   ],
   "metadata": {
    "collapsed": false,
    "pycharm": {
     "name": "#%%\n",
     "is_executing": false
    }
   }
  },
  {
   "cell_type": "markdown",
   "source": [
    "We now need to remove the mean out of each image as well as any auto-correlation that is usually present ins such data.\n",
    "If we rotate the data so as the principal direction found by PCA is now an axis we have in effect removed the \n",
    "correlation factor. The next step is to rescale the axes so as to normalize or whiten the data. For dataset with images\n",
    "we expect strong auto-correlation, meaning that a pixel is usually not completely independent of its neighbouring \n",
    "pixels nor are the different color channels. So if we remove this correlation we end up with something that is closer to \n",
    "white noise, hence the term whitening. An intuitive way of thinking about it is that we construct a high-pass filter \n",
    "preserving only the information that makes an image different from a completely black or white image (similar to edge \n",
    "detection)."
   ],
   "metadata": {
    "collapsed": false
   }
  },
  {
   "cell_type": "code",
   "execution_count": null,
   "outputs": [],
   "source": [
    "def whiten(pca, vec):\n",
    "    cor = np.dot(vec - pca.mean_, pca.components_.T)\n",
    "    return np.dot(cor / pca.singular_values_, pca.components_) * np.sqrt(60000) * 64 + 128\n",
    "\n",
    "whitened_image = vtoimg(whiten(pca, data_flat[image_index]))\n",
    "\n",
    "plt.subplot(1,2,1)\n",
    "plt.imshow(original_image)\n",
    "plt.subplot(1,2,2)\n",
    "plt.imshow(whitened_image)"
   ],
   "metadata": {
    "collapsed": false,
    "pycharm": {
     "name": "#%%\n"
    }
   }
  },
  {
   "cell_type": "code",
   "source": [
    "# auto-correlation accross different channels\n",
    "dirac_r = pca.mean_.copy()\n",
    "dirac_g = pca.mean_.copy()\n",
    "dirac_b = pca.mean_.copy()\n",
    "\n",
    "dirac_r[32*16+16] += 1\n",
    "dirac_g[32*32+32*16+16] += 1\n",
    "dirac_b[2*32*32+32*16+16] += 1\n",
    "\n",
    "plt.plot(whiten(pca, dirac_r))\n",
    "plt.plot(whiten(pca, dirac_g))\n",
    "plt.plot(whiten(pca, dirac_b))\n",
    "\n",
    "def vftoimg(v):\n",
    "     return v.reshape(3,32,32).transpose([1,2,0])\n",
    "\n",
    "kk = [dirac_r,dirac_g,dirac_b]\n",
    "for k in range(3):\n",
    "    for c in range(3):\n",
    "        plt.subplot(3,3,c+1+k*3)\n",
    "        # plt.imshow(vftoimg(whiten(pca, kk[k])-128)[:,:,c], cmap=plt.cm.coolwarm, vmin=-0.1, vmax=0.1)\n",
    "        plt.imshow(vftoimg(whiten(pca, kk[k])-128)[:,:,c], cmap=plt.cm.coolwarm, vmin=-0.2, vmax=0.2)\n",
    "        plt.xlim(13,19)\n",
    "        plt.ylim(13,19)"
   ],
   "metadata": {
    "collapsed": false,
    "pycharm": {
     "name": "#%%\n"
    }
   },
   "execution_count": null,
   "outputs": []
  },
  {
   "cell_type": "code",
   "execution_count": null,
   "outputs": [],
   "source": [
    "# We can now try to visualize the dataset in two dimensions\n",
    "\n"
   ],
   "metadata": {
    "collapsed": false,
    "pycharm": {
     "name": "#%%\n"
    }
   }
  }
 ],
 "metadata": {
  "kernelspec": {
   "display_name": "Python 3",
   "language": "python",
   "name": "python3"
  },
  "language_info": {
   "codemirror_mode": {
    "name": "ipython",
    "version": 2
   },
   "file_extension": ".py",
   "mimetype": "text/x-python",
   "name": "python",
   "nbconvert_exporter": "python",
   "pygments_lexer": "ipython2",
   "version": "2.7.6"
  },
  "pycharm": {
   "stem_cell": {
    "cell_type": "raw",
    "source": [],
    "metadata": {
     "collapsed": false
    }
   }
  }
 },
 "nbformat": 4,
 "nbformat_minor": 0
}